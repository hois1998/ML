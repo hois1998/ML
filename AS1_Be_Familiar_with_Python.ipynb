{
  "nbformat": 4,
  "nbformat_minor": 0,
  "metadata": {
    "kernelspec": {
      "display_name": "Python 3",
      "language": "python",
      "name": "python3"
    },
    "language_info": {
      "codemirror_mode": {
        "name": "ipython",
        "version": 3
      },
      "file_extension": ".py",
      "mimetype": "text/x-python",
      "name": "python",
      "nbconvert_exporter": "python",
      "pygments_lexer": "ipython3",
      "version": "3.8.3"
    },
    "colab": {
      "name": "Coding Exercise 1.ipynb",
      "provenance": []
    }
  },
  "cells": [
    {
      "cell_type": "markdown",
      "metadata": {
        "id": "2o6WI7dGB8gY"
      },
      "source": [
        "# 기계학습기초 및 전기정보응용\n",
        "\n",
        "Assignment0 \n",
        "\n"
      ]
    },
    {
      "cell_type": "code",
      "metadata": {
        "id": "nLYcp_yI-Swu"
      },
      "source": [
        "import random \n"
      ],
      "execution_count": 29,
      "outputs": []
    },
    {
      "cell_type": "code",
      "metadata": {
        "id": "bfwqCVpNB8gi",
        "outputId": "8fededcd-e328-497f-cffa-b2f577254e3c",
        "colab": {
          "base_uri": "https://localhost:8080/"
        }
      },
      "source": [
        "#problem1 \n",
        "#selection sort 만들기\n",
        "\n",
        "def selection(list):\n",
        "  length = len(list)\n",
        "  i = 0\n",
        "  \n",
        "  while i < length-1:\n",
        "    min = list[i]\n",
        "    minIdx = i\n",
        "    j = i\n",
        "\n",
        "    while j < length:\n",
        "      if (list[j] < min):\n",
        "        min = list[j]\n",
        "        minIdx = j\n",
        "      \n",
        "      j = j+1\n",
        "    \n",
        "    temp = list[i]\n",
        "    list[i] = min\n",
        "    list[minIdx] = temp\n",
        "\n",
        "    i = i + 1\n",
        "  \n",
        "print(list1, '\\n')\n",
        "selection(list1)\n",
        "print(list1)"
      ],
      "execution_count": 26,
      "outputs": [
        {
          "output_type": "stream",
          "name": "stdout",
          "text": [
            "[53, 338, 930, 415, 636, 853, 967, 658, 931, 308, 888, 563, 737, 860, 690, 287, 372, 401, 918, 72] \n",
            "\n",
            "[53, 72, 287, 308, 338, 372, 401, 415, 563, 636, 658, 690, 737, 853, 860, 888, 918, 930, 931, 967]\n"
          ]
        }
      ]
    },
    {
      "cell_type": "code",
      "metadata": {
        "id": "lhjuxt9IB8gk"
      },
      "source": [
        "class Sorting:\n",
        "  def __init__(self):\n",
        "    print('instance is created!')\n",
        "\n",
        "  def selection(self, list):\n",
        "    length = len(list)\n",
        "    i = 0\n",
        "    \n",
        "    while i < length-1:\n",
        "      min = list[i]\n",
        "      minIdx = i\n",
        "      j = i\n",
        "\n",
        "      while j < length:\n",
        "        if (list[j] < min):\n",
        "          min = list[j]\n",
        "          minIdx = j\n",
        "        \n",
        "        j = j+1\n",
        "      \n",
        "      temp = list[i]\n",
        "      list[i] = min\n",
        "      list[minIdx] = temp\n",
        "\n",
        "      i = i + 1\n",
        "\n",
        "  def insertion(self, list):\n",
        "    length = len(list)\n",
        "    i = 0\n",
        "    while i < length:\n",
        "      j = i-1\n",
        "      toBeInserted = list[i]\n",
        "\n",
        "      while j >= 0:\n",
        "        if (toBeInserted < list[j]):\n",
        "          list[j+1] = list[j]\n",
        "          if (j == 0):\n",
        "            list[0] = toBeInserted\n",
        "        else:\n",
        "          list[j+1] = toBeInserted\n",
        "          break\n",
        "\n",
        "        j = j-1 \n",
        "      i = i+1\n",
        "  #이 함수를 만드는 동안 리스트를 분할하는 방법, 변수를 1라인에 여러개 정의 하는 방법을 배울 수\n",
        "  def merge(self, list):\n",
        "    #먼저 divde를 진행한 후 \n",
        "    if (len(list) > 1):\n",
        "      length = len(list)\n",
        "      mid = round(length/2)\n",
        "      lList = list[0:mid]\n",
        "      rList = list[mid:]\n",
        "\n",
        "      self.merge(lList)\n",
        "      self.merge(rList)\n",
        "\n",
        "      i, j, k = 0, 0, 0\n",
        "\n",
        "      while i < len(lList) and j < len(rList):\n",
        "        if (lList[i] < rList[j]):\n",
        "          list[k] = lList[i]\n",
        "          i = i+1\n",
        "        else:\n",
        "          list[k] = rList[j]\n",
        "          j = j+1\n",
        "        k = k+1\n",
        "      \n",
        "      while i < len(lList):\n",
        "        list[k] = lList[i]\n",
        "        i = i+1\n",
        "        k = k+1\n",
        "\n",
        "      while j < len(rList):\n",
        "        list[k] = rList[j]\n",
        "        j = j+1\n",
        "        k = k+1\n",
        "\n",
        "\n",
        "      "
      ],
      "execution_count": 30,
      "outputs": []
    },
    {
      "cell_type": "code",
      "metadata": {
        "id": "qBiFyxwZGu_J",
        "outputId": "2d7ab7da-d1cd-44bb-ba1f-247199b4833f",
        "colab": {
          "base_uri": "https://localhost:8080/"
        }
      },
      "source": [
        "list1 = random.sample(range(1000), 20)\n",
        "list2 = random.sample(range(1000), 200)\n",
        "list3 = random.sample(range(1000), 200) \n",
        "\n",
        "print(list1)\n",
        "inst = Sorting()\n",
        "inst.merge(list1)\n",
        "print(list1)"
      ],
      "execution_count": 31,
      "outputs": [
        {
          "output_type": "stream",
          "name": "stdout",
          "text": [
            "[996, 177, 717, 612, 396, 545, 788, 266, 21, 962, 529, 464, 909, 486, 284, 988, 498, 943, 525, 958]\n",
            "instance is created!\n",
            "[21, 177, 266, 284, 396, 464, 486, 498, 525, 529, 545, 612, 717, 788, 909, 943, 958, 962, 988, 996]\n"
          ]
        }
      ]
    },
    {
      "cell_type": "code",
      "metadata": {
        "id": "j0OWmnJDU01z",
        "outputId": "ebebe6b5-9ca7-46b3-dbf4-32f5d8f379d0",
        "colab": {
          "base_uri": "https://localhost:8080/"
        }
      },
      "source": [
        "#이렇게 하면 for loop에 _는 그 값은 무시하면서 루프를 돌면서 나온 결과값 random.randint(0,20)의 결과 하나하나를 리스트에 넣는다.\n",
        "test1 = [random.randint(0, 20) for _ in range(10)]\n",
        "test1"
      ],
      "execution_count": 33,
      "outputs": [
        {
          "output_type": "execute_result",
          "data": {
            "text/plain": [
              "[18, 8, 8, 20, 1, 13, 9, 16, 1, 8]"
            ]
          },
          "metadata": {},
          "execution_count": 33
        }
      ]
    },
    {
      "cell_type": "code",
      "metadata": {
        "id": "KXP_UN6aVfhb"
      },
      "source": [
        ""
      ],
      "execution_count": null,
      "outputs": []
    }
  ]
}