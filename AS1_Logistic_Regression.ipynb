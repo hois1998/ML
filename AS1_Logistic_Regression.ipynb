{
  "nbformat": 4,
  "nbformat_minor": 0,
  "metadata": {
    "anaconda-cloud": {},
    "colab": {
      "name": "AS1-Logistic_Regression.ipynb",
      "provenance": [],
      "collapsed_sections": []
    },
    "kernelspec": {
      "display_name": "Python 3",
      "language": "python",
      "name": "python3"
    },
    "language_info": {
      "codemirror_mode": {
        "name": "ipython",
        "version": 3
      },
      "file_extension": ".py",
      "mimetype": "text/x-python",
      "name": "python",
      "nbconvert_exporter": "python",
      "pygments_lexer": "ipython3",
      "version": "3.7.4"
    }
  },
  "cells": [
    {
      "cell_type": "markdown",
      "metadata": {
        "id": "t6j5WcA3GbSk"
      },
      "source": [
        "# M2608.001300 기계학습 기초 및 전기정보 응용<br> Assignment 1: Logistic Regression"
      ]
    },
    {
      "cell_type": "markdown",
      "metadata": {
        "id": "ei9BMeksGbSn"
      },
      "source": [
        "## Dataset load & Plot"
      ]
    },
    {
      "cell_type": "code",
      "metadata": {
        "id": "Vlb19coAGbSo"
      },
      "source": [
        " #https://stackoverflow.com/questions/43027980/purpose-of-matplotlib-inline 에 따르면\n",
        " #%matplotlib inline을 사용하면 백엔드에서 그래프가 노트북 실행시 브라우저에서 바로 보여지도록 한다.\n",
        "%matplotlib inline\n",
        "import numpy as np\n",
        "import matplotlib.pyplot as plt\n",
        "from sklearn.linear_model import LogisticRegression\n",
        "from warnings import filterwarnings\n",
        "filterwarnings('ignore')"
      ],
      "execution_count": 85,
      "outputs": []
    },
    {
      "cell_type": "code",
      "metadata": {
        "id": "cPFNfI0vz8nq",
        "outputId": "4daa9bbe-a8b0-410a-d489-98b7a0603186",
        "colab": {
          "base_uri": "https://localhost:8080/"
        }
      },
      "source": [
        "from google.colab import drive\n",
        "drive.mount('/content/drive')"
      ],
      "execution_count": 81,
      "outputs": [
        {
          "output_type": "stream",
          "name": "stdout",
          "text": [
            "Drive already mounted at /content/drive; to attempt to forcibly remount, call drive.mount(\"/content/drive\", force_remount=True).\n"
          ]
        }
      ]
    },
    {
      "cell_type": "code",
      "metadata": {
        "colab": {
          "base_uri": "https://localhost:8080/",
          "height": 283
        },
        "id": "xV9Z9RPMGbSt",
        "scrolled": true,
        "outputId": "9a1f1bba-d71c-46f1-c8da-ea40036fa6b9"
      },
      "source": [
        "data = np.loadtxt('./drive/MyDrive/ML_data/data.csv', delimiter=',')\n",
        "X = data[:, :2]\n",
        "y = data[:, 2]\n",
        "label_mask = np.equal(y, 1)\n",
        "\n",
        "plt.scatter(X[:, 0][label_mask], X[:, 1][label_mask], color='red')\n",
        "plt.scatter(X[:, 0][~label_mask], X[:, 1][~label_mask], color='blue')\n",
        "# plt.show()\n"
      ],
      "execution_count": 82,
      "outputs": [
        {
          "output_type": "execute_result",
          "data": {
            "text/plain": [
              "<matplotlib.collections.PathCollection at 0x7f7e354b54d0>"
            ]
          },
          "metadata": {},
          "execution_count": 82
        },
        {
          "output_type": "display_data",
          "data": {
            "image/png": "[encoded data removed]",
            "text/plain": [
              "<Figure size 432x288 with 1 Axes>"
            ]
          },
          "metadata": {
            "needs_background": "light"
          }
        }
      ]
    },
    {
      "cell_type": "markdown",
      "metadata": {
        "id": "kwcWe3pDGbSy"
      },
      "source": [
        "## Problem 1-1. sklearn model로 Logistic Regression 모델 train 시켜보기\n",
        "scikit-learn library의 LogisticRegression 클래스를 이용해 train 시켜 보세요. <br>\n",
        "클래스 인자 및 사용법에 관해서는 scikit-learn 홈페이지의 설명을 참고해 주세요. <br>\n",
        "(참고: https://scikit-learn.org/stable/modules/generated/sklearn.linear_model.LogisticRegression.html)"
      ]
    },
    {
      "cell_type": "code",
      "metadata": {
        "id": "ONWQ_Q5yGbS0"
      },
      "source": [
        "def learn_and_return_weights(X, y):\n",
        "    from sklearn.linear_model import LogisticRegression\n",
        "    # YOUR CODE COMES HERE\n",
        "    #add x0 for all N data\n",
        "    new_X = [np.append(e, [1], axis=0) for e in X]\n",
        "    lr = LogisticRegression(fit_intercept=True, max_iter=50, solver='lbfgs').fit(X, y)\n",
        "    \n",
        "    # w: coefficient of the model to input features,\n",
        "    w = lr.coef_[0]\n",
        "    # b: bias of the model\n",
        "    b = lr.intercept_[0]\n",
        "\n",
        "    \n",
        "    # print(w, b)\n",
        "    return w, b"
      ],
      "execution_count": 97,
      "outputs": []
    },
    {
      "cell_type": "code",
      "metadata": {
        "colab": {
          "base_uri": "https://localhost:8080/",
          "height": 265
        },
        "id": "HkQB55lkGbS3",
        "outputId": "e318e6b2-5555-4dcb-f39c-72ec2bae99ef"
      },
      "source": [
        "def plot_data_and_weights(X, y, w, b):\n",
        "    plt.scatter(X[:, 0][label_mask], X[:, 1][label_mask], color='red')\n",
        "    plt.scatter(X[:, 0][~label_mask], X[:, 1][~label_mask], color='blue')\n",
        "\n",
        "    x_lin = np.arange(20, 70, 1)\n",
        "    # y_lin을 만들자. 이는 곧 2d data에서 2차원에 위치한 데이터의 값이 결과가 나오게 하는 \n",
        "    #n-d차원이면 n-1을 결과로 그래프를 그리는 것이다\n",
        "    y_lin = -(b + w[0] * x_lin) / w[1]\n",
        "    plt.plot(x_lin, y_lin, '-m')\n",
        "    plt.show()\n",
        "    \n",
        "w, b = learn_and_return_weights(X, y)\n",
        "plot_data_and_weights(X, y, w, b)"
      ],
      "execution_count": 98,
      "outputs": [
        {
          "output_type": "display_data",
          "data": {
            "image/png": "[encoded data removed]",
            "text/plain": [
              "<Figure size 432x288 with 1 Axes>"
            ]
          },
          "metadata": {
            "needs_background": "light"
          }
        }
      ]
    },
    {
      "cell_type": "markdown",
      "metadata": {
        "id": "jKYz83ecGbS6"
      },
      "source": [
        "## Problem 1-2. numpy로 Logistic Regression 구현해보기\n",
        "scikit-learn library를 사용하지 않고 Logistic Regression을 구현해보세요."
      ]
    },
    {
      "cell_type": "code",
      "metadata": {
        "id": "eGTRLxvsGbS7"
      },
      "source": [
        "def sigmoid(z):\n",
        "    # YOUR CODE COMES HERE\n",
        "    return 1/(1 + np.exp(-z))\n",
        "\n",
        "def binary_cross_entropy_loss(y_pred, target):\n",
        "    # YOUR CODE COMES HERE\n",
        "    #여기서 의미하는 y_pred라는 것이 W transpose X 맞나?\n",
        "    #맞다고 해야 sigmoid를 사용할 수 있어\n",
        "    if (len(y_pred) != len(target)):\n",
        "      print(\"size of y_pred and target is different\")\n",
        "    else:\n",
        "      sum = 0\n",
        "      i = 0\n",
        "      while i < len(y_pred):\n",
        "        if target[i]==1:\n",
        "          sum = sum + np.log(sigmoid(y_pred[i]))\n",
        "        else:\n",
        "          sum = sum + (1-sigmoid(y_pred[i]))\n",
        "\n",
        "    return sum / len(y_pred)\n",
        "    \n",
        "def learn_and_return_weights_numpy(X, Y, lr=.01, iter=100000):\n",
        "    # YOUR CODE COMES HERE\n",
        "    #initialize w, b\n",
        "    w = np.ones(len(X[0]))\n",
        "    b = 1\n",
        "    gradient = 0\n",
        "\n",
        "    while i in range(iter):\n",
        "      z = [X*w for e in X]\n",
        "      error = binary_cross_entropy_loss(z, Y)\n",
        "      gradient = gradient + -1* sigmoid(Y[i]*z[i])*np.exp(-Y[i]*z[i])*Y[i] * np.append([1], X)\n",
        "    \n",
        "    gradient = gradient / len(X)\n",
        "    w = w - lr*gradient[1:]\n",
        "    b = b - lr*gradient[0]\n",
        "   \n",
        "    \n",
        "    return w, b"
      ],
      "execution_count": null,
      "outputs": []
    },
    {
      "cell_type": "code",
      "metadata": {
        "id": "cp2G1R_hgQk_",
        "outputId": "61cd64df-f2e8-44ae-e96f-db1290a5d0cf",
        "colab": {
          "base_uri": "https://localhost:8080/",
          "height": 229
        }
      },
      "source": [
        "b = 1\n",
        "c = np.array([1,2])\n",
        "\n",
        "b, c = np.array([1,2,3])\n",
        "print(b ,c)"
      ],
      "execution_count": 111,
      "outputs": [
        {
          "output_type": "error",
          "ename": "ValueError",
          "evalue": "ignored",
          "traceback": [
            "\u001b[0;31m---------------------------------------------------------------------------\u001b[0m",
            "\u001b[0;31mValueError\u001b[0m                                Traceback (most recent call last)",
            "\u001b[0;32m<ipython-input-111-cda80c969fb1>\u001b[0m in \u001b[0;36m<module>\u001b[0;34m()\u001b[0m\n\u001b[1;32m      2\u001b[0m \u001b[0mc\u001b[0m \u001b[0;34m=\u001b[0m \u001b[0mnp\u001b[0m\u001b[0;34m.\u001b[0m\u001b[0marray\u001b[0m\u001b[0;34m(\u001b[0m\u001b[0;34m[\u001b[0m\u001b[0;36m1\u001b[0m\u001b[0;34m,\u001b[0m\u001b[0;36m2\u001b[0m\u001b[0;34m]\u001b[0m\u001b[0;34m)\u001b[0m\u001b[0;34m\u001b[0m\u001b[0;34m\u001b[0m\u001b[0m\n\u001b[1;32m      3\u001b[0m \u001b[0;34m\u001b[0m\u001b[0m\n\u001b[0;32m----> 4\u001b[0;31m \u001b[0mb\u001b[0m\u001b[0;34m,\u001b[0m \u001b[0mc\u001b[0m \u001b[0;34m=\u001b[0m \u001b[0mnp\u001b[0m\u001b[0;34m.\u001b[0m\u001b[0marray\u001b[0m\u001b[0;34m(\u001b[0m\u001b[0;34m[\u001b[0m\u001b[0;36m1\u001b[0m\u001b[0;34m,\u001b[0m\u001b[0;36m2\u001b[0m\u001b[0;34m,\u001b[0m\u001b[0;36m3\u001b[0m\u001b[0;34m]\u001b[0m\u001b[0;34m)\u001b[0m\u001b[0;34m\u001b[0m\u001b[0;34m\u001b[0m\u001b[0m\n\u001b[0m\u001b[1;32m      5\u001b[0m \u001b[0mprint\u001b[0m\u001b[0;34m(\u001b[0m\u001b[0mb\u001b[0m \u001b[0;34m,\u001b[0m\u001b[0mc\u001b[0m\u001b[0;34m)\u001b[0m\u001b[0;34m\u001b[0m\u001b[0;34m\u001b[0m\u001b[0m\n",
            "\u001b[0;31mValueError\u001b[0m: too many values to unpack (expected 2)"
          ]
        }
      ]
    },
    {
      "cell_type": "code",
      "metadata": {
        "id": "_r29rt28xm2g"
      },
      "source": [
        "# from sklearn import datasets\n",
        "# iris = sklearn.datasets.load_iris()\n",
        "# X = iris.data[:, :2]\n",
        "# y = (iris.target != 0) * 1\n",
        "\n",
        "# label_mask = np.equal(y, 1)\n",
        "\n",
        "# w, b = learn_and_return_weights_numpy(X, y)\n",
        "\n",
        "# plt.subplot(212)\n",
        "# plt.scatter(X[:, 0][label_mask], X[:, 1][label_mask], color='red')\n",
        "# plt.scatter(X[:, 0][~label_mask], X[:, 1][~label_mask], color='blue')\n",
        "\n",
        "# x_lin = np.arange(4, 8)\n",
        "# y_lin = -(-.5 + b + w[0] * x_lin) / w[1]\n",
        "\n",
        "# plt.plot(x_lin, y_lin, color='black');\n",
        "# plt.show()"
      ],
      "execution_count": null,
      "outputs": []
    },
    {
      "cell_type": "code",
      "metadata": {
        "id": "ryO_ItqRGbS_",
        "outputId": "802f0bb0-3ddf-456f-dc36-fc10ddf6b31e"
      },
      "source": [
        "w, b = learn_and_return_weights_numpy(X, y)\n",
        "print(w, b)\n",
        "# plt.subplot(212)\n",
        "plot_data_and_weights(X, y, w, b)\n",
        "\n",
        "z = np.dot(X, w) + b\n",
        "y_output = sigmoid(z)\n",
        "bce = binary_cross_entropy_loss(y_output,y)\n",
        "print('Binary cross entropy loss:', bce)\n",
        "if (np.isnan(bce) == True) or (bce < 0):\n",
        "    print('You need to make sure your binary cross entropy loss function is correct,\\nor use np.clip to clip the argument of the logarithm from small number (e.g. 1e-10) to 1.')"
      ],
      "execution_count": null,
      "outputs": [
        {
          "name": "stdout",
          "output_type": "stream",
          "text": [
            "[-5.01589545e+02  4.54545513e-01] -11.955909090906113\n"
          ]
        },
        {
          "data": {
            "image/png": "[encoded data removed]",
            "text/plain": [
              "<Figure size 432x288 with 1 Axes>"
            ]
          },
          "metadata": {
            "needs_background": "light"
          },
          "output_type": "display_data"
        },
        {
          "name": "stdout",
          "output_type": "stream",
          "text": [
            "Binary cross entropy loss: -1.0000000822403707e-09\n",
            "You need to make sure your binary cross entropy loss function is correct,\n",
            "or use np.clip to clip the argument of the logarithm from small number (e.g. 1e-10) to 1.\n"
          ]
        }
      ]
    },
    {
      "cell_type": "markdown",
      "metadata": {
        "id": "FTPkme9rGbTC"
      },
      "source": [
        "## Problem 2. sklearn model로 Logistic Regression 모델 train 시켜보기 + regularizer 사용하기\n",
        "scikit-learn library의 Logistic Regression 에 대한 API문서를 읽어보고,<br>\n",
        "L1-regularization을 사용할 때와 L2-regularization을 사용할 때의 weight의 변화를 살펴보세요. <br>\n",
        "(참고: https://scikit-learn.org/stable/modules/generated/sklearn.linear_model.LogisticRegression.html)"
      ]
    },
    {
      "cell_type": "code",
      "metadata": {
        "id": "dUR-wC9CGbTC"
      },
      "source": [
        "def learn_and_return_weights_l1_regularized(X, y):    \n",
        "    # YOUR CODE COMES HERE\n",
        "   \n",
        "    return w, b\n",
        "\n",
        "def learn_and_return_weights_l2_regularized(X, y):    \n",
        "    # YOUR CODE COMES HERE\n",
        "\n",
        "    \n",
        "    return w, b"
      ],
      "execution_count": null,
      "outputs": []
    },
    {
      "cell_type": "code",
      "metadata": {
        "id": "o7gpEX1YGbTF"
      },
      "source": [
        "def get_dataset():\n",
        "    D = 1000\n",
        "    N = 80\n",
        "\n",
        "    X = np.random.random((N, D))\n",
        "    w = np.zeros(D)\n",
        "    w[0] = 1\n",
        "    w[1] = 1\n",
        "    \n",
        "    e = np.random.random(N) - 0.5\n",
        "    \n",
        "    y_score = np.dot(X, w)\n",
        "    y_score_median = np.median(y_score)\n",
        "    print(y_score.max(), y_score.min(), y_score_median)\n",
        "    \n",
        "    # y_score += 0.01 * e\n",
        "    y = y_score >= y_score_median\n",
        "    y = y.astype(np.int32)\n",
        "    \n",
        "    return (X[:N // 2], y[:N // 2]), (X[N // 2:], y[N // 2:])"
      ],
      "execution_count": null,
      "outputs": []
    },
    {
      "cell_type": "code",
      "metadata": {
        "id": "2cG6nG0fGbTI",
        "outputId": "038d4936-5688-4ad3-e334-cddf9943dea0"
      },
      "source": [
        "(x_train, y_train), (x_test, y_test) = get_dataset()\n",
        "\n",
        "w_l1, b_l1 = learn_and_return_weights_l1_regularized(x_train, y_train)\n",
        "w_l2, b_l2 = learn_and_return_weights_l2_regularized(x_train, y_train)\n",
        "\n",
        "print(w_l1[:5])\n",
        "print(w_l2[:5])"
      ],
      "execution_count": null,
      "outputs": [
        {
          "name": "stdout",
          "output_type": "stream",
          "text": [
            "1.7772823651374037 0.12285306126103779 1.042333949124691\n",
            "[2.2990606  1.22230146 0.         0.         0.        ]\n",
            "[0.27197076 0.20141712 0.04319623 0.03378394 0.03493069]\n"
          ]
        }
      ]
    },
    {
      "cell_type": "markdown",
      "metadata": {
        "collapsed": true,
        "id": "v_DaRCDGHJZ5"
      },
      "source": [
        "## Problem 3-1. Logistic Regression으로 multi-class classification 하기: API 활용하기\n",
        "scikit-learn library의 Logistic Regression API를 활용하면 multi-class classification을 간단하게 수행할 수 있습니다.<br>\n",
        "MNIST dataset에 대해 multi-class classification을 위한 Logistic Regression 모델을 학습시키고, test data에 대한 accuracy를 계산해 보세요."
      ]
    },
    {
      "cell_type": "code",
      "metadata": {
        "id": "JJNyQWnuGbTL",
        "outputId": "5f82d8a6-b5e5-46e9-932b-86ef39f72306"
      },
      "source": [
        "def plot_mnist_examples(x, length=10):\n",
        "    x = x.reshape((-1, 28, 28))\n",
        "    for i in range(length):\n",
        "        plt.subplot('{}5{}'.format((length-1)//5 + 1, i%5 + 1))\n",
        "        plt.imshow(x[i], cmap='gray')\n",
        "        if i % 5 == 4:\n",
        "            plt.show()\n",
        "        \n",
        "def get_dataset():\n",
        "    from keras.datasets import mnist\n",
        "    (x_train, y_train), (x_test, y_test) = mnist.load_data()\n",
        "    x_train = x_train.reshape((-1, 28 * 28)).astype(np.float32)\n",
        "    x_test = x_test.reshape((-1, 28 * 28)).astype(np.float32)\n",
        "    return (x_train, y_train), (x_test, y_test)\n",
        "(x_train, y_train), (x_test, y_test) = get_dataset()\n",
        "train = (x_train, y_train)\n",
        "test = (x_test, y_test)\n",
        "\n",
        "plot_mnist_examples(x_train)\n",
        "# plot_mnist_examples(x_test)\n",
        "\n",
        "num_classes = 10"
      ],
      "execution_count": null,
      "outputs": [
        {
          "name": "stderr",
          "output_type": "stream",
          "text": [
            "Using TensorFlow backend.\n"
          ]
        },
        {
          "data": {
            "image/png": "[encoded data removed]",
            "text/plain": [
              "<Figure size 432x288 with 5 Axes>"
            ]
          },
          "metadata": {
            "needs_background": "light"
          },
          "output_type": "display_data"
        },
        {
          "data": {
            "image/png": "[encoded data removed]",
            "text/plain": [
              "<Figure size 432x288 with 5 Axes>"
            ]
          },
          "metadata": {
            "needs_background": "light"
          },
          "output_type": "display_data"
        }
      ]
    },
    {
      "cell_type": "code",
      "metadata": {
        "id": "1Hi81olzGbTT"
      },
      "source": [
        "def learn_mul(X, y):\n",
        "    # YOUR CODE COMES HERE\n",
        "    return lr\n",
        "\n",
        "def inference_mul(x, lr):\n",
        "    # YOUR CODE COMES HERE\n",
        "    return y\n",
        "\n",
        "def plot_wrong(x, y, pred, length=10):\n",
        "    wrong = []\n",
        "    for i in range(len(y)):\n",
        "        if pred[i] != y[i]:\n",
        "            wrong.append(i)\n",
        "    wrong_x = np.asarray([x[i] for i in wrong])\n",
        "\n",
        "    print('Wrong Cases:', len(wrong_x))\n",
        "    print(length, 'Samples')\n",
        "    for i in range(length):\n",
        "        print('({},{})'.format(pred[wrong[i]], y[wrong[i]]), end=' ')\n",
        "        if i % 5 == 4:\n",
        "            print()\n",
        "    plot_mnist_examples(wrong_x, length)"
      ],
      "execution_count": null,
      "outputs": []
    },
    {
      "cell_type": "code",
      "metadata": {
        "id": "bfdTZNUYGbTW",
        "outputId": "e997ee1e-a070-4978-bda2-eaec84c7a3ec"
      },
      "source": [
        "model = learn_mul(x_train, y_train)\n",
        "preds = inference_mul(x_test, model)\n",
        "accuracy = np.sum(preds == y_test) / y_test.shape[0]\n",
        "print('Accuracy:', accuracy)\n",
        "S\n",
        "plot_wrong(x_test, y_test, preds)"
      ],
      "execution_count": null,
      "outputs": [
        {
          "name": "stdout",
          "output_type": "stream",
          "text": [
            "Accuracy: 0.9255\n",
            "Wrong Cases: 745\n",
            "10 Samples\n",
            "(6,5) (6,4) (2,3) (3,6) (4,7) \n",
            "(9,2) (3,9) (8,3) (7,5) (5,6) \n"
          ]
        },
        {
          "data": {
            "image/png": "[encoded data removed]",
            "text/plain": [
              "<Figure size 432x288 with 5 Axes>"
            ]
          },
          "metadata": {
            "needs_background": "light"
          },
          "output_type": "display_data"
        },
        {
          "data": {
            "image/png": "[encoded data removed]",
            "text/plain": [
              "<Figure size 432x288 with 5 Axes>"
            ]
          },
          "metadata": {
            "needs_background": "light"
          },
          "output_type": "display_data"
        }
      ]
    },
    {
      "cell_type": "markdown",
      "metadata": {
        "collapsed": true,
        "id": "2OLcsStrGbTK"
      },
      "source": [
        "## Problem 3-2. Logistic Regression으로 multi-class classification 하기: Transformation to Binary\n",
        "\n",
        "Logistic Regression은 기본적으로 binary classifier 입니다. 즉, input *X*를 2개의 class로 밖에 분류하지 못합니다.<br>\n",
        "하지만, 이같은 Logistic Regression 모델을 연달아 사용한다면 data를 여러 class로 분류할 수도 있습니다.<br>\n",
        "(참고: https://en.wikipedia.org/wiki/Multiclass_classification#Transformation_to_binary)\n",
        "\n",
        "MNIST dataset을 이용하여 (class 수) 개의 Binary classifier (Logistic Regression)를 'lrs'의 각 원소에 저장한 뒤,<br>\n",
        "학습시킨 모델들을 이용하여 test data에 대한 accuracy를 계산해 보세요.<br>\n",
        "(각 모델의 training iteration은 10회면 충분합니다.)"
      ]
    },
    {
      "cell_type": "code",
      "metadata": {
        "id": "mlYDigjwGbTO"
      },
      "source": [
        "def learn_mul2bin(X, y):\n",
        "    lrs = []\n",
        "    ordinal = lambda n: \"%d%s\" % (n,\"tsnrhtdd\"[(n/10%10!=1)*(n%10<4)*n%10::4])\n",
        "    \n",
        "    print(y[:10])\n",
        "    for i in range(num_classes):\n",
        "        print('training %s classifier...'%(ordinal(i)), end=' ')\n",
        "        \n",
        "        # YOUR CODE COMES HERE\n",
        "        \n",
        "        \n",
        "        lr = LogisticRegression(solver='liblinear', max_iter=10, penalty='l2')\n",
        "        lr.fit(X, y_i)\n",
        "        lrs.append(lr)\n",
        "    return lrs\n",
        "\n",
        "def inference_mul2bin(x, lrs):\n",
        "    # YOUR CODE COMES HERE\n",
        "    \n",
        "    return y"
      ],
      "execution_count": null,
      "outputs": []
    },
    {
      "cell_type": "code",
      "metadata": {
        "id": "tKF3C-4OGbTR",
        "outputId": "ae071e21-13b9-4e6a-a149-3861a0eeedd5"
      },
      "source": [
        "models = learn_mul2bin(x_train, y_train)\n",
        "preds = np.array([inference_mul2bin(x, models) for x in x_test])\n",
        "accuracy = np.sum(preds == y_test) / y_test.shape[0]\n",
        "print('Accuracy:', accuracy)\n",
        "\n",
        "plot_wrong(x_test, y_test, preds)"
      ],
      "execution_count": null,
      "outputs": [
        {
          "name": "stdout",
          "output_type": "stream",
          "text": [
            "[5 0 4 1 9 2 1 3 1 4]\n",
            "training 0th classifier... [0 1 0 0 0 0 0 0 0 0]\n",
            "training 1st classifier... [0 0 0 1 0 0 1 0 1 0]\n",
            "training 2nd classifier... [0 0 0 0 0 1 0 0 0 0]\n",
            "training 3rd classifier... [0 0 0 0 0 0 0 1 0 0]\n",
            "training 4th classifier... [0 0 1 0 0 0 0 0 0 1]\n",
            "training 5th classifier... [1 0 0 0 0 0 0 0 0 0]\n",
            "training 6th classifier... [0 0 0 0 0 0 0 0 0 0]\n",
            "training 7th classifier... [0 0 0 0 0 0 0 0 0 0]\n",
            "training 8th classifier... [0 0 0 0 0 0 0 0 0 0]\n",
            "training 9th classifier... [0 0 0 0 1 0 0 0 0 0]\n",
            "Accuracy: 0.9176\n",
            "Wrong Cases: 824\n",
            "10 Samples\n",
            "(6,5) (5,3) (6,4) (3,2) (2,3) \n",
            "(3,6) (8,2) (4,7) (9,2) (8,9) \n"
          ]
        },
        {
          "data": {
            "image/png": "[encoded data removed]",
            "text/plain": [
              "<Figure size 432x288 with 5 Axes>"
            ]
          },
          "metadata": {
            "needs_background": "light"
          },
          "output_type": "display_data"
        },
        {
          "data": {
            "image/png": "[encoded data removed]",
            "text/plain": [
              "<Figure size 432x288 with 5 Axes>"
            ]
          },
          "metadata": {
            "needs_background": "light"
          },
          "output_type": "display_data"
        }
      ]
    },
    {
      "cell_type": "code",
      "metadata": {
        "id": "0sx-mlLZxm2m"
      },
      "source": [
        ""
      ],
      "execution_count": null,
      "outputs": []
    }
  ]
}