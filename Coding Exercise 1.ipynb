{
 "cells": [
  {
   "cell_type": "markdown",
   "metadata": {},
   "source": [
    "# 1. Load & visualize the data"
   ]
  },
  {
   "cell_type": "code",
   "execution_count": 27,
   "metadata": {},
   "outputs": [],
   "source": [
    "import numpy as np\n",
    "import matplotlib.pyplot as plt"
   ]
  },
  {
   "cell_type": "code",
   "execution_count": 28,
   "metadata": {},
   "outputs": [],
   "source": [
    "# Load the data from the file \"example_data.csv\"\n",
    "# Finally we need to load variables data_x(first column), data_y(second column)\n",
    "\n",
    "###################################################################################\n",
    "#                                   YOUR CODE HERE                                #\n",
    "###################################################################################\n",
    "import pandas as pd\n",
    "\n",
    "data = pd.read_csv(r'example_data.csv', header=None)\n",
    "# print(data)\n",
    "data_x, data_y = data.iloc[:, 0].values, data.iloc[:, 1].values\n",
    "# print(y_data)\n",
    "\n",
    "\n",
    "###################################################################################\n",
    "#                                  END OF YOUR CODE                               #\n",
    "###################################################################################\n"
   ]
  },
  {
   "cell_type": "code",
   "execution_count": 29,
   "metadata": {},
   "outputs": [
    {
     "data": {
      "image/png": "[encoded data removed]",
      "text/plain": [
       "<Figure size 432x288 with 1 Axes>"
      ]
     },
     "metadata": {
      "needs_background": "light"
     },
     "output_type": "display_data"
    }
   ],
   "source": [
    "# Make a scatter plot of training data to visualize the data\n",
    "\n",
    "###################################################################################\n",
    "#                                   YOUR CODE HERE                                #\n",
    "###################################################################################\n",
    "plt.plot(data_x, data_y, '.')\n",
    "plt.show()\n",
    "\n",
    "###################################################################################\n",
    "#                                  END OF YOUR CODE                               #\n",
    "###################################################################################"
   ]
  },
  {
   "cell_type": "markdown",
   "metadata": {},
   "source": [
    "# 2. Implement LMS algorithm"
   ]
  },
  {
   "cell_type": "code",
   "execution_count": 30,
   "metadata": {},
   "outputs": [],
   "source": [
    "# Define Cost function J\n",
    "def cost(x, y, theta):\n",
    "    # Compute cost for linear regression\n",
    "    # J is the cost using theta as the parameter for linear regression to fit the data points in X and y\n",
    "\n",
    "    ###################################################################################\n",
    "    #                                   YOUR CODE HERE                                #\n",
    "    ###################################################################################\n",
    "    if (len(x) != len(y)):\n",
    "        print(\"size of two data is different!\")\n",
    "    else:\n",
    "        sum = 0\n",
    "        i = 0\n",
    "        h = theta[1] * x + theta[0]\n",
    "\n",
    "        while i < len(x):\n",
    "            sum = sum + (h[i] - y[i])**2\n",
    "            i = i + 1\n",
    "        \n",
    "        J = sum * 0.5\n",
    "\n",
    "    ###################################################################################\n",
    "    #                                  END OF YOUR CODE                               #\n",
    "    ###################################################################################\n",
    "\n",
    "        return J"
   ]
  },
  {
   "cell_type": "code",
   "execution_count": 31,
   "metadata": {},
   "outputs": [],
   "source": [
    "# Implement Gradient descent algorithm\n",
    "def gradient_descent(x, y, theta, alpha, num_iters):\n",
    "    # gradient_descent performs gradient descent to learn theta\n",
    "    # gradient_descent updates theta by taking num_iters gradient steps with learning rate alpha\n",
    "    \n",
    "    for iter in range(num_iters):\n",
    "\n",
    "        ###################################################################################\n",
    "        #                                   YOUR CODE HERE                                #\n",
    "        ###################################################################################\n",
    "        sum = np.zeros(2)\n",
    "        i = 0\n",
    "        h = theta[1] * x + theta[0]\n",
    "        \n",
    "        while i < len(x):\n",
    "            sum = sum + (h[i]- y[i])*np.array([1, x[i]])\n",
    "            i = i + 1\n",
    "        \n",
    "        theta = theta - alpha*sum\n",
    "              \n",
    "        ################################################w###################################\n",
    "        #                                  END OF YOUR CODE                               #\n",
    "        ###################################################################################\n",
    "\n",
    "        # Save the cost J in every iteration    \n",
    "        J = cost(x, y, theta)\n",
    "        \n",
    "        if (iter+1)%100 == 0:\n",
    "            print('cost at %d iterations : %f' %(iter+1, J))\n",
    "        \n",
    "    return theta"
   ]
  },
  {
   "cell_type": "code",
   "execution_count": 32,
   "metadata": {},
   "outputs": [
    {
     "name": "stdout",
     "output_type": "stream",
     "text": [
      "initial cost : 3111.055186\n",
      "cost at 100 iterations : 532.617497\n",
      "cost at 200 iterations : 503.572524\n",
      "cost at 300 iterations : 483.105075\n",
      "cost at 400 iterations : 468.682047\n",
      "cost at 500 iterations : 458.518410\n",
      "cost at 600 iterations : 451.356285\n",
      "cost at 700 iterations : 446.309270\n",
      "cost at 800 iterations : 442.752733\n",
      "cost at 900 iterations : 440.246508\n",
      "cost at 1000 iterations : 438.480418\n",
      "cost at 1100 iterations : 437.235887\n",
      "cost at 1200 iterations : 436.358890\n",
      "cost at 1300 iterations : 435.740886\n",
      "cost at 1400 iterations : 435.305391\n",
      "cost at 1500 iterations : 434.998505\n",
      "cost at 1600 iterations : 434.782249\n",
      "cost at 1700 iterations : 434.629857\n",
      "cost at 1800 iterations : 434.522469\n",
      "cost at 1900 iterations : 434.446795\n",
      "cost at 2000 iterations : 434.393469\n",
      "updated theta :  [-3.77574245  1.18097448]\n",
      "updated cost : 434.393469\n"
     ]
    }
   ],
   "source": [
    "# initialize values\n",
    "theta = np.zeros(2)\n",
    "num_iters = 2000\n",
    "alpha = 0.0001\n",
    "\n",
    "# compute initial cost\n",
    "init_J = cost(data_x, data_y, theta)\n",
    "print('initial cost : %f' %init_J)\n",
    "\n",
    "# excute gradient descent\n",
    "theta = gradient_descent(data_x, data_y, theta, alpha, num_iters)\n",
    "\n",
    "# compute new cost\n",
    "new_J = cost(data_x, data_y, theta)\n",
    "print('updated theta : ', theta)\n",
    "print('updated cost : %f' %new_J)"
   ]
  },
  {
   "cell_type": "markdown",
   "metadata": {},
   "source": [
    "# 3. Plot the linear regression fit"
   ]
  },
  {
   "cell_type": "code",
   "execution_count": 33,
   "metadata": {
    "scrolled": true
   },
   "outputs": [
    {
     "data": {
      "image/png": "[encoded data removed]",
      "text/plain": [
       "<Figure size 432x288 with 1 Axes>"
      ]
     },
     "metadata": {
      "needs_background": "light"
     },
     "output_type": "display_data"
    }
   ],
   "source": [
    "# Plot the scatter plot and linear regression fit\n",
    "\n",
    "###################################################################################\n",
    "#                                   YOUR CODE HERE                                #\n",
    "###################################################################################\n",
    "plt.plot(x_data, y_data, '.')\n",
    "plt.plot(x_data, theta[1] * data_x + theta[0], 'r-')\n",
    "\n",
    "plt.show()\n",
    "\n",
    "###################################################################################\n",
    "#                                  END OF YOUR CODE                               #\n",
    "###################################################################################"
   ]
  },
  {
   "cell_type": "code",
   "execution_count": null,
   "metadata": {},
   "outputs": [],
   "source": []
  }
 ],
 "metadata": {
  "kernelspec": {
   "display_name": "Python 3",
   "language": "python",
   "name": "python3"
  },
  "language_info": {
   "codemirror_mode": {
    "name": "ipython",
    "version": 3
   },
   "file_extension": ".py",
   "mimetype": "text/x-python",
   "name": "python",
   "nbconvert_exporter": "python",
   "pygments_lexer": "ipython3",
   "version": "3.8.3"
  }
 },
 "nbformat": 4,
 "nbformat_minor": 2
}
