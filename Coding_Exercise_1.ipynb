{
  "nbformat": 4,
  "nbformat_minor": 0,
  "metadata": {
    "kernelspec": {
      "display_name": "Python 3",
      "language": "python",
      "name": "python3"
    },
    "language_info": {
      "codemirror_mode": {
        "name": "ipython",
        "version": 3
      },
      "file_extension": ".py",
      "mimetype": "text/x-python",
      "name": "python",
      "nbconvert_exporter": "python",
      "pygments_lexer": "ipython3",
      "version": "3.8.3"
    },
    "colab": {
      "name": "Coding Exercise 1.ipynb",
      "provenance": []
    }
  },
  "cells": [
    {
      "cell_type": "markdown",
      "metadata": {
        "id": "2o6WI7dGB8gY"
      },
      "source": [
        "# 1. Load & visualize the data"
      ]
    },
    {
      "cell_type": "code",
      "metadata": {
        "colab": {
          "base_uri": "https://localhost:8080/"
        },
        "id": "nLYcp_yI-Swu",
        "outputId": "0e6eda93-f30d-4dbc-dc13-68eff025b099"
      },
      "source": [
        "from google.colab import drive\n",
        "drive.mount('/content/drive')"
      ],
      "execution_count": 1,
      "outputs": [
        {
          "output_type": "stream",
          "name": "stdout",
          "text": [
            "Mounted at /content/drive\n"
          ]
        }
      ]
    },
    {
      "cell_type": "code",
      "metadata": {
        "id": "bfwqCVpNB8gi"
      },
      "source": [
        "import numpy as np\n",
        "import matplotlib.pyplot as plt"
      ],
      "execution_count": 2,
      "outputs": []
    },
    {
      "cell_type": "code",
      "metadata": {
        "id": "lhjuxt9IB8gk",
        "colab": {
          "base_uri": "https://localhost:8080/"
        },
        "outputId": "3ed5a3d6-aba4-4f2c-e852-06f3bd8a3b2e"
      },
      "source": [
        "# Load the data from the file \"example_data.csv\"\n",
        "# Finally we need to load variables data_x(first column), data_y(second column)\n",
        "\n",
        "###################################################################################\n",
        "#                                   YOUR CODE HERE                                #\n",
        "###################################################################################\n",
        "import pandas as pd\n",
        "\n",
        "data = pd.read_csv(r'./drive/MyDrive/ML_data/example_data.csv', header=None)\n",
        "print(data)\n",
        "data_x, data_y = data.iloc[:, 0].values, data.iloc[:, 1].values\n",
        "# print(y_data)\n",
        "\n",
        "\n",
        "###################################################################################\n",
        "#                                  END OF YOUR CODE                               #\n",
        "###################################################################################\n"
      ],
      "execution_count": 3,
      "outputs": [
        {
          "output_type": "stream",
          "name": "stdout",
          "text": [
            "          0         1\n",
            "0    6.1101  17.59200\n",
            "1    5.5277   9.13020\n",
            "2    8.5186  13.66200\n",
            "3    7.0032  11.85400\n",
            "4    5.8598   6.82330\n",
            "..      ...       ...\n",
            "92   5.8707   7.20290\n",
            "93   5.3054   1.98690\n",
            "94   8.2934   0.14454\n",
            "95  13.3940   9.05510\n",
            "96   5.4369   0.61705\n",
            "\n",
            "[97 rows x 2 columns]\n"
          ]
        }
      ]
    },
    {
      "cell_type": "code",
      "metadata": {
        "id": "G6UGtCOpB8gl",
        "colab": {
          "base_uri": "https://localhost:8080/",
          "height": 266
        },
        "outputId": "3f182fa6-1258-4bec-dd5a-ea1ffb4254ee"
      },
      "source": [
        "# Make a scatter plot of training data to visualize the data\n",
        "\n",
        "###################################################################################\n",
        "#                                   YOUR CODE HERE                                #\n",
        "###################################################################################\n",
        "plt.plot(data_x, data_y, '.')\n",
        "plt.show()\n",
        "\n",
        "###################################################################################\n",
        "#                                  END OF YOUR CODE                               #\n",
        "###################################################################################"
      ],
      "execution_count": 8,
      "outputs": [
        {
          "output_type": "display_data",
          "data": {
            "image/png": "[encoded data removed]",
            "text/plain": [
              "<Figure size 432x288 with 1 Axes>"
            ]
          },
          "metadata": {
            "needs_background": "light"
          }
        }
      ]
    },
    {
      "cell_type": "markdown",
      "metadata": {
        "id": "kvlkdWgqB8gm"
      },
      "source": [
        "# 2. Implement LMS algorithm"
      ]
    },
    {
      "cell_type": "code",
      "metadata": {
        "id": "o2PRE_xiB8gn"
      },
      "source": [
        "# Define Cost function J\n",
        "def cost(x, y, theta):\n",
        "    # Compute cost for linear regression\n",
        "    # J is the cost using theta as the parameter for linear regression to fit the data points in X and y\n",
        "\n",
        "    ###################################################################################\n",
        "    #                                   YOUR CODE HERE                                #\n",
        "    ###################################################################################\n",
        "    if (len(x) != len(y)):\n",
        "        print(\"size of two data is different!\")\n",
        "    else:\n",
        "        i = 0\n",
        "        sum = 0\n",
        "        h = theta[1] * x + theta[0]\n",
        "\n",
        "        while i < len(x):\n",
        "          sum = sum + (h[i] - y[i])**2\n",
        "          i = i + 1\n",
        "\n",
        "        J = sum / len(x)\n",
        "\n",
        "    ###################################################################################\n",
        "    #                                  END OF YOUR CODE                               #\n",
        "    ###################################################################################\n",
        "\n",
        "        return J"
      ],
      "execution_count": 12,
      "outputs": []
    },
    {
      "cell_type": "code",
      "metadata": {
        "id": "Os0HqwAuB8go"
      },
      "source": [
        "# Implement Gradient descent algorithm\n",
        "def gradient_descent(x, y, theta, alpha, num_iters):\n",
        "    # gradient_descent performs gradient descent to learn theta\n",
        "    # gradient_descent updates theta by taking num_iters gradient steps with learning rate alpha\n",
        "    \n",
        "    for iter in range(num_iters):\n",
        "\n",
        "        ###################################################################################\n",
        "        #                                   YOUR CODE HERE                                #\n",
        "        ###################################################################################\n",
        "        # sum = np.zeros(2)\n",
        "        # i = 0\n",
        "        # h = theta[1] * x + theta[0]\n",
        "        \n",
        "        # while i < len(x): # batch GD\n",
        "        #     sum = sum + (h[i]- y[i])*np.array([1, x[i]])\n",
        "        #     i = i + 1\n",
        "        \n",
        "        # theta = theta - alpha*sum\n",
        "        sum = np.zeros(2)\n",
        "        i = 0\n",
        "        h = theta[1] * x + theta[0] #w transpose x\n",
        "\n",
        "        while i < len(x):\n",
        "          sum  = sum + 2 * (h[i] - y[i]) * np.array([1, x[i]])\n",
        "          i = i + 1      \n",
        "        \n",
        "        theta = theta - alpha*sum / len(x)\n",
        "\n",
        "        ################################################w###################################\n",
        "        #                                  END OF YOUR CODE                               #\n",
        "        ###################################################################################\n",
        "\n",
        "        # Save the cost J in every iteration    \n",
        "        J = cost(x, y, theta)\n",
        "        \n",
        "        if (iter+1)%100 == 0:\n",
        "            print('cost at %d iterations : %f' %(iter+1, J))\n",
        "        \n",
        "    return theta"
      ],
      "execution_count": 21,
      "outputs": []
    },
    {
      "cell_type": "code",
      "metadata": {
        "id": "--e7Q5VEB8gq",
        "colab": {
          "base_uri": "https://localhost:8080/"
        },
        "outputId": "90d9c3ab-9d83-4a5f-f5b2-d72854918bda"
      },
      "source": [
        "# initialize values\n",
        "theta = np.zeros(2)\n",
        "num_iters = 2000\n",
        "alpha = 0.0001\n",
        "\n",
        "# compute initial cost\n",
        "init_J = cost(data_x, data_y, theta)\n",
        "print('initial cost : %f' %init_J)\n",
        "\n",
        "# excute gradient descent\n",
        "theta = gradient_descent(data_x, data_y, theta, alpha, num_iters)\n",
        "\n",
        "# compute new cost\n",
        "new_J = cost(data_x, data_y, theta)\n",
        "print('updated theta : ', theta)\n",
        "print('updated cost : %f' %new_J)"
      ],
      "execution_count": 22,
      "outputs": [
        {
          "output_type": "stream",
          "name": "stdout",
          "text": [
            "initial cost : 64.145468\n",
            "cost at 100 iterations : 13.709290\n",
            "cost at 200 iterations : 11.859326\n",
            "cost at 300 iterations : 11.772562\n",
            "cost at 400 iterations : 11.749920\n",
            "cost at 500 iterations : 11.729746\n",
            "cost at 600 iterations : 11.709799\n",
            "cost at 700 iterations : 11.690000\n",
            "cost at 800 iterations : 11.670342\n",
            "cost at 900 iterations : 11.650826\n",
            "cost at 1000 iterations : 11.631450\n",
            "cost at 1100 iterations : 11.612213\n",
            "cost at 1200 iterations : 11.593115\n",
            "cost at 1300 iterations : 11.574153\n",
            "cost at 1400 iterations : 11.555328\n",
            "cost at 1500 iterations : 11.536638\n",
            "cost at 1600 iterations : 11.518083\n",
            "cost at 1700 iterations : 11.499661\n",
            "cost at 1800 iterations : 11.481371\n",
            "cost at 1900 iterations : 11.463212\n",
            "cost at 2000 iterations : 11.445184\n",
            "updated theta :  [-0.19683335  0.82143424]\n",
            "updated cost : 11.445184\n"
          ]
        }
      ]
    },
    {
      "cell_type": "markdown",
      "metadata": {
        "id": "2NWxS_8aB8gr"
      },
      "source": [
        "# 3. Plot the linear regression fit"
      ]
    },
    {
      "cell_type": "code",
      "metadata": {
        "scrolled": true,
        "id": "jGlM3d9-B8gs",
        "colab": {
          "base_uri": "https://localhost:8080/",
          "height": 266
        },
        "outputId": "6200f451-6e98-4020-be37-3101ff9a129e"
      },
      "source": [
        "# Plot the scatter plot and linear regression fit\n",
        "\n",
        "###################################################################################\n",
        "#                                   YOUR CODE HERE                                #\n",
        "###################################################################################\n",
        "plt.plot(data_x, data_y, '.')\n",
        "plt.plot(data_x, theta[1] * data_x + theta[0], 'r-')\n",
        "\n",
        "plt.show()\n",
        "\n",
        "###################################################################################\n",
        "#                                  END OF YOUR CODE                               #\n",
        "###################################################################################"
      ],
      "execution_count": 23,
      "outputs": [
        {
          "output_type": "display_data",
          "data": {
            "image/png": "[encoded data removed]",
            "text/plain": [
              "<Figure size 432x288 with 1 Axes>"
            ]
          },
          "metadata": {
            "needs_background": "light"
          }
        }
      ]
    },
    {
      "cell_type": "code",
      "metadata": {
        "id": "P9_GCQ0xB8gt"
      },
      "source": [
        "}"
      ],
      "execution_count": null,
      "outputs": []
    }
  ]
}